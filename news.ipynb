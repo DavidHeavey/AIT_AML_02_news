{
 "cells": [
  {
   "cell_type": "code",
   "execution_count": 82,
   "metadata": {
    "collapsed": true
   },
   "outputs": [],
   "source": [
    "import pandas as pd\n",
    "from sklearn.datasets import fetch_20newsgroups\n",
    "from sklearn.feature_extraction.text import TfidfTransformer, TfidfVectorizer\n",
    "from sklearn.metrics import accuracy_score, classification_report, confusion_matrix,ConfusionMatrixDisplay\n",
    "import matplotlib.pyplot as plt\n",
    "\n",
    "from sklearn.naive_bayes import GaussianNB\n",
    "from sklearn.svm import SVC\n",
    "from sklearn.neural_network import MLPClassifier\n",
    "\n",
    "\n",
    "plt.style.use({'figure.facecolor':'white'})"
   ]
  },
  {
   "cell_type": "code",
   "execution_count": 83,
   "outputs": [
    {
     "data": {
      "text/plain": "['alt.atheism',\n 'comp.graphics',\n 'comp.os.ms-windows.misc',\n 'comp.sys.ibm.pc.hardware',\n 'comp.sys.mac.hardware',\n 'comp.windows.x',\n 'misc.forsale',\n 'rec.autos',\n 'rec.motorcycles',\n 'rec.sport.baseball',\n 'rec.sport.hockey',\n 'sci.crypt',\n 'sci.electronics',\n 'sci.med',\n 'sci.space',\n 'soc.religion.christian',\n 'talk.politics.guns',\n 'talk.politics.mideast',\n 'talk.politics.misc',\n 'talk.religion.misc']"
     },
     "execution_count": 83,
     "metadata": {},
     "output_type": "execute_result"
    }
   ],
   "source": [
    "data = fetch_20newsgroups(subset='all',shuffle=True, random_state=42)\n",
    "names = data.target_names\n",
    "names"
   ],
   "metadata": {
    "collapsed": false,
    "pycharm": {
     "name": "#%%\n"
    }
   }
  },
  {
   "cell_type": "markdown",
   "source": [
    "### use 'rec.' categories only:"
   ],
   "metadata": {
    "collapsed": false,
    "pycharm": {
     "name": "#%% md\n"
    }
   }
  },
  {
   "cell_type": "code",
   "execution_count": 84,
   "outputs": [
    {
     "data": {
      "text/plain": "['rec.autos', 'rec.motorcycles', 'rec.sport.baseball', 'rec.sport.hockey']"
     },
     "execution_count": 84,
     "metadata": {},
     "output_type": "execute_result"
    }
   ],
   "source": [
    "cats = ['rec.motorcycles', 'rec.autos', 'rec.sport.baseball', 'rec.sport.hockey']\n",
    "rec_train = fetch_20newsgroups(subset='train',categories=cats, shuffle=True, random_state=42)\n",
    "rec_test = fetch_20newsgroups(subset='test',categories=cats, shuffle=True, random_state=42)\n",
    "target_names = rec_train.target_names\n",
    "target_names"
   ],
   "metadata": {
    "collapsed": false,
    "pycharm": {
     "name": "#%%\n"
    }
   }
  },
  {
   "cell_type": "code",
   "execution_count": 85,
   "outputs": [
    {
     "data": {
      "text/plain": "2389"
     },
     "execution_count": 85,
     "metadata": {},
     "output_type": "execute_result"
    }
   ],
   "source": [
    "rec_train.target_names\n",
    "len(rec_train.data)"
   ],
   "metadata": {
    "collapsed": false,
    "pycharm": {
     "name": "#%%\n"
    }
   }
  },
  {
   "cell_type": "code",
   "execution_count": 86,
   "outputs": [
    {
     "data": {
      "text/plain": "3    600\n1    598\n2    597\n0    594\ndtype: int64"
     },
     "execution_count": 86,
     "metadata": {},
     "output_type": "execute_result"
    }
   ],
   "source": [
    "df = pd.DataFrame(rec_train.target).value_counts()\n",
    "df"
   ],
   "metadata": {
    "collapsed": false,
    "pycharm": {
     "name": "#%%\n"
    }
   }
  },
  {
   "cell_type": "code",
   "execution_count": 87,
   "outputs": [],
   "source": [
    "vectorizer = TfidfVectorizer(max_df=0.5, min_df=2, stop_words='english', use_idf=True)\n",
    "X_train = vectorizer.fit_transform(rec_train.data)\n",
    "X_test = vectorizer.transform(rec_test.data)\n",
    "y_train, y_test = rec_train.target, rec_test.target"
   ],
   "metadata": {
    "collapsed": false,
    "pycharm": {
     "name": "#%%\n"
    }
   }
  },
  {
   "cell_type": "code",
   "execution_count": 88,
   "outputs": [
    {
     "name": "stdout",
     "output_type": "stream",
     "text": [
      "2389 1590\n",
      "(2389, 17529) (1590, 17529)\n"
     ]
    }
   ],
   "source": [
    "print(len(y_train), len(y_test))\n",
    "print(X_train.shape, X_test.shape)"
   ],
   "metadata": {
    "collapsed": false,
    "pycharm": {
     "name": "#%%\n"
    }
   }
  },
  {
   "cell_type": "markdown",
   "source": [
    "## SVM:"
   ],
   "metadata": {
    "collapsed": false,
    "pycharm": {
     "name": "#%% md\n"
    }
   }
  },
  {
   "cell_type": "code",
   "execution_count": 89,
   "outputs": [
    {
     "data": {
      "text/plain": "SVC()"
     },
     "execution_count": 89,
     "metadata": {},
     "output_type": "execute_result"
    }
   ],
   "source": [
    "svm = SVC()\n",
    "svm.fit(X_train.toarray(), y_train)"
   ],
   "metadata": {
    "collapsed": false,
    "pycharm": {
     "name": "#%%\n"
    }
   }
  },
  {
   "cell_type": "code",
   "execution_count": 90,
   "outputs": [
    {
     "name": "stdout",
     "output_type": "stream",
     "text": [
      "Train accuracy score: 99.96%\n",
      "Test accuracy score: 96.04%\n"
     ]
    }
   ],
   "source": [
    "svm_pred_train = svm.predict((X_train.toarray()))\n",
    "train_score = accuracy_score(y_train, svm_pred_train) *100\n",
    "print(f\"Train accuracy score: {train_score:.2f}%\")\n",
    "\n",
    "svm_pred_test = svm.predict(X_test.toarray())\n",
    "test_score = accuracy_score(y_test, svm_pred_test) * 100\n",
    "print(f\"Test accuracy score: {test_score:.2f}%\")\n"
   ],
   "metadata": {
    "collapsed": false,
    "pycharm": {
     "name": "#%%\n"
    }
   }
  },
  {
   "cell_type": "code",
   "execution_count": 91,
   "outputs": [
    {
     "data": {
      "text/plain": "<Figure size 720x720 with 2 Axes>",
      "image/png": "[encoded data removed]"
     },
     "metadata": {},
     "output_type": "display_data"
    }
   ],
   "source": [
    "cm = confusion_matrix(y_test, svm_pred_test)\n",
    "disp = ConfusionMatrixDisplay(confusion_matrix=cm,\n",
    "                              display_labels=rec_train.target_names)\n",
    "fig, ax = plt.subplots(figsize=(10, 10))\n",
    "disp = disp.plot(xticks_rotation='vertical', ax=ax, cmap='summer')\n",
    "\n",
    "plt.show()"
   ],
   "metadata": {
    "collapsed": false,
    "pycharm": {
     "name": "#%%\n"
    }
   }
  },
  {
   "cell_type": "code",
   "execution_count": 92,
   "outputs": [
    {
     "data": {
      "text/plain": "              precision    recall  f1-score      support\n0              0.943627  0.972222  0.957711   396.000000\n1              0.974425  0.957286  0.965779   398.000000\n2              0.959079  0.944584  0.951777   397.000000\n3              0.965000  0.967419  0.966208   399.000000\naccuracy       0.960377  0.960377  0.960377     0.960377\nmacro avg      0.960533  0.960378  0.960369  1590.000000\nweighted avg   0.960558  0.960377  0.960381  1590.000000",
      "text/html": "<div>\n<style scoped>\n    .dataframe tbody tr th:only-of-type {\n        vertical-align: middle;\n    }\n\n    .dataframe tbody tr th {\n        vertical-align: top;\n    }\n\n    .dataframe thead th {\n        text-align: right;\n    }\n</style>\n<table border=\"1\" class=\"dataframe\">\n  <thead>\n    <tr style=\"text-align: right;\">\n      <th></th>\n      <th>precision</th>\n      <th>recall</th>\n      <th>f1-score</th>\n      <th>support</th>\n    </tr>\n  </thead>\n  <tbody>\n    <tr>\n      <th>0</th>\n      <td>0.943627</td>\n      <td>0.972222</td>\n      <td>0.957711</td>\n      <td>396.000000</td>\n    </tr>\n    <tr>\n      <th>1</th>\n      <td>0.974425</td>\n      <td>0.957286</td>\n      <td>0.965779</td>\n      <td>398.000000</td>\n    </tr>\n    <tr>\n      <th>2</th>\n      <td>0.959079</td>\n      <td>0.944584</td>\n      <td>0.951777</td>\n      <td>397.000000</td>\n    </tr>\n    <tr>\n      <th>3</th>\n      <td>0.965000</td>\n      <td>0.967419</td>\n      <td>0.966208</td>\n      <td>399.000000</td>\n    </tr>\n    <tr>\n      <th>accuracy</th>\n      <td>0.960377</td>\n      <td>0.960377</td>\n      <td>0.960377</td>\n      <td>0.960377</td>\n    </tr>\n    <tr>\n      <th>macro avg</th>\n      <td>0.960533</td>\n      <td>0.960378</td>\n      <td>0.960369</td>\n      <td>1590.000000</td>\n    </tr>\n    <tr>\n      <th>weighted avg</th>\n      <td>0.960558</td>\n      <td>0.960377</td>\n      <td>0.960381</td>\n      <td>1590.000000</td>\n    </tr>\n  </tbody>\n</table>\n</div>"
     },
     "execution_count": 92,
     "metadata": {},
     "output_type": "execute_result"
    }
   ],
   "source": [
    "pd.DataFrame(classification_report(y_test,svm_pred_test, output_dict=True)).T\n"
   ],
   "metadata": {
    "collapsed": false,
    "pycharm": {
     "name": "#%%\n"
    }
   }
  },
  {
   "cell_type": "markdown",
   "source": [
    "## Naive Bayes:"
   ],
   "metadata": {
    "collapsed": false
   }
  },
  {
   "cell_type": "code",
   "execution_count": 93,
   "outputs": [
    {
     "data": {
      "text/plain": "GaussianNB()"
     },
     "execution_count": 93,
     "metadata": {},
     "output_type": "execute_result"
    }
   ],
   "source": [
    "nb = GaussianNB()\n",
    "nb.fit(X_train.toarray(), y_train)"
   ],
   "metadata": {
    "collapsed": false,
    "pycharm": {
     "name": "#%%\n"
    }
   }
  },
  {
   "cell_type": "code",
   "execution_count": 94,
   "outputs": [
    {
     "name": "stdout",
     "output_type": "stream",
     "text": [
      "Train accuracy score: 99.92%\n",
      "Test accuracy score: 90.57%\n"
     ]
    }
   ],
   "source": [
    "nb_pred_train = nb.predict((X_train.toarray()))\n",
    "nb_train_score = accuracy_score(y_train, nb_pred_train) *100\n",
    "print(f\"Train accuracy score: {nb_train_score:.2f}%\")\n",
    "\n",
    "nb_pred_test = nb.predict(X_test.toarray())\n",
    "nb_test_score = accuracy_score(y_test, nb_pred_test) * 100\n",
    "print(f\"Test accuracy score: {nb_test_score:.2f}%\")\n"
   ],
   "metadata": {
    "collapsed": false,
    "pycharm": {
     "name": "#%%\n"
    }
   }
  },
  {
   "cell_type": "code",
   "execution_count": 95,
   "outputs": [
    {
     "data": {
      "text/plain": "<Figure size 720x720 with 2 Axes>",
      "image/png": "[encoded data removed]"
     },
     "metadata": {},
     "output_type": "display_data"
    }
   ],
   "source": [
    "cm = confusion_matrix(y_test, nb_pred_test)\n",
    "disp = ConfusionMatrixDisplay(confusion_matrix=cm,\n",
    "                              display_labels=rec_train.target_names)\n",
    "fig, ax = plt.subplots(figsize=(10, 10))\n",
    "disp = disp.plot(xticks_rotation='vertical', ax=ax, cmap='summer')\n",
    "\n",
    "plt.show()\n"
   ],
   "metadata": {
    "collapsed": false,
    "pycharm": {
     "name": "#%%\n"
    }
   }
  },
  {
   "cell_type": "code",
   "execution_count": 96,
   "outputs": [
    {
     "data": {
      "text/plain": "              precision    recall  f1-score     support\n0              0.908854  0.881313  0.894872   396.00000\n1              0.885366  0.912060  0.898515   398.00000\n2              0.950685  0.874055  0.910761   397.00000\n3              0.883991  0.954887  0.918072   399.00000\naccuracy       0.905660  0.905660  0.905660     0.90566\nmacro avg      0.907224  0.905579  0.905555  1590.00000\nweighted avg   0.907180  0.905660  0.905573  1590.00000",
      "text/html": "<div>\n<style scoped>\n    .dataframe tbody tr th:only-of-type {\n        vertical-align: middle;\n    }\n\n    .dataframe tbody tr th {\n        vertical-align: top;\n    }\n\n    .dataframe thead th {\n        text-align: right;\n    }\n</style>\n<table border=\"1\" class=\"dataframe\">\n  <thead>\n    <tr style=\"text-align: right;\">\n      <th></th>\n      <th>precision</th>\n      <th>recall</th>\n      <th>f1-score</th>\n      <th>support</th>\n    </tr>\n  </thead>\n  <tbody>\n    <tr>\n      <th>0</th>\n      <td>0.908854</td>\n      <td>0.881313</td>\n      <td>0.894872</td>\n      <td>396.00000</td>\n    </tr>\n    <tr>\n      <th>1</th>\n      <td>0.885366</td>\n      <td>0.912060</td>\n      <td>0.898515</td>\n      <td>398.00000</td>\n    </tr>\n    <tr>\n      <th>2</th>\n      <td>0.950685</td>\n      <td>0.874055</td>\n      <td>0.910761</td>\n      <td>397.00000</td>\n    </tr>\n    <tr>\n      <th>3</th>\n      <td>0.883991</td>\n      <td>0.954887</td>\n      <td>0.918072</td>\n      <td>399.00000</td>\n    </tr>\n    <tr>\n      <th>accuracy</th>\n      <td>0.905660</td>\n      <td>0.905660</td>\n      <td>0.905660</td>\n      <td>0.90566</td>\n    </tr>\n    <tr>\n      <th>macro avg</th>\n      <td>0.907224</td>\n      <td>0.905579</td>\n      <td>0.905555</td>\n      <td>1590.00000</td>\n    </tr>\n    <tr>\n      <th>weighted avg</th>\n      <td>0.907180</td>\n      <td>0.905660</td>\n      <td>0.905573</td>\n      <td>1590.00000</td>\n    </tr>\n  </tbody>\n</table>\n</div>"
     },
     "execution_count": 96,
     "metadata": {},
     "output_type": "execute_result"
    }
   ],
   "source": [
    "pd.DataFrame(classification_report(y_test, nb_pred_test, output_dict=True)).T\n"
   ],
   "metadata": {
    "collapsed": false,
    "pycharm": {
     "name": "#%%\n"
    }
   }
  },
  {
   "cell_type": "markdown",
   "source": [
    "## Neural Network:"
   ],
   "metadata": {
    "collapsed": false,
    "pycharm": {
     "name": "#%% md\n"
    }
   }
  },
  {
   "cell_type": "code",
   "execution_count": 97,
   "outputs": [],
   "source": [
    "nn = MLPClassifier(max_iter=200)"
   ],
   "metadata": {
    "collapsed": false,
    "pycharm": {
     "name": "#%%\n"
    }
   }
  },
  {
   "cell_type": "code",
   "execution_count": 98,
   "outputs": [
    {
     "data": {
      "text/plain": "MLPClassifier()"
     },
     "execution_count": 98,
     "metadata": {},
     "output_type": "execute_result"
    }
   ],
   "source": [
    "nn.fit(X_train, y_train)"
   ],
   "metadata": {
    "collapsed": false,
    "pycharm": {
     "name": "#%%\n"
    }
   }
  },
  {
   "cell_type": "code",
   "execution_count": 99,
   "outputs": [
    {
     "name": "stdout",
     "output_type": "stream",
     "text": [
      "Train accuracy score: 99.96%\n",
      "Test accuracy score: 96.73%\n"
     ]
    }
   ],
   "source": [
    "nn_pred_train = nn.predict((X_train))\n",
    "train_score = accuracy_score(y_train, nn_pred_train) *100\n",
    "print(f\"Train accuracy score: {train_score:.2f}%\")\n",
    "\n",
    "nn_pred_test = nn.predict(X_test)\n",
    "test_score = accuracy_score(y_test, nn_pred_test) * 100\n",
    "print(f\"Test accuracy score: {test_score:.2f}%\")\n"
   ],
   "metadata": {
    "collapsed": false,
    "pycharm": {
     "name": "#%%\n"
    }
   }
  },
  {
   "cell_type": "code",
   "execution_count": 100,
   "outputs": [
    {
     "data": {
      "text/plain": "<Figure size 720x720 with 2 Axes>",
      "image/png": "[encoded data removed]"
     },
     "metadata": {},
     "output_type": "display_data"
    }
   ],
   "source": [
    "cm = confusion_matrix(y_test, nn_pred_test)\n",
    "disp = ConfusionMatrixDisplay(confusion_matrix=cm,\n",
    "                              display_labels=rec_train.target_names)\n",
    "fig, ax = plt.subplots(figsize=(10, 10))\n",
    "disp = disp.plot(xticks_rotation='vertical', ax=ax, cmap='summer')\n",
    "\n",
    "plt.show()\n"
   ],
   "metadata": {
    "collapsed": false,
    "pycharm": {
     "name": "#%%\n"
    }
   }
  },
  {
   "cell_type": "code",
   "execution_count": 101,
   "outputs": [
    {
     "data": {
      "text/plain": "              precision    recall  f1-score      support\n0              0.946210  0.977273  0.961491   396.000000\n1              0.984496  0.957286  0.970701   398.000000\n2              0.971867  0.957179  0.964467   397.000000\n3              0.967742  0.977444  0.972569   399.000000\naccuracy       0.967296  0.967296  0.967296     0.967296\nmacro avg      0.967579  0.967295  0.967307  1590.000000\nweighted avg   0.967603  0.967296  0.967319  1590.000000",
      "text/html": "<div>\n<style scoped>\n    .dataframe tbody tr th:only-of-type {\n        vertical-align: middle;\n    }\n\n    .dataframe tbody tr th {\n        vertical-align: top;\n    }\n\n    .dataframe thead th {\n        text-align: right;\n    }\n</style>\n<table border=\"1\" class=\"dataframe\">\n  <thead>\n    <tr style=\"text-align: right;\">\n      <th></th>\n      <th>precision</th>\n      <th>recall</th>\n      <th>f1-score</th>\n      <th>support</th>\n    </tr>\n  </thead>\n  <tbody>\n    <tr>\n      <th>0</th>\n      <td>0.946210</td>\n      <td>0.977273</td>\n      <td>0.961491</td>\n      <td>396.000000</td>\n    </tr>\n    <tr>\n      <th>1</th>\n      <td>0.984496</td>\n      <td>0.957286</td>\n      <td>0.970701</td>\n      <td>398.000000</td>\n    </tr>\n    <tr>\n      <th>2</th>\n      <td>0.971867</td>\n      <td>0.957179</td>\n      <td>0.964467</td>\n      <td>397.000000</td>\n    </tr>\n    <tr>\n      <th>3</th>\n      <td>0.967742</td>\n      <td>0.977444</td>\n      <td>0.972569</td>\n      <td>399.000000</td>\n    </tr>\n    <tr>\n      <th>accuracy</th>\n      <td>0.967296</td>\n      <td>0.967296</td>\n      <td>0.967296</td>\n      <td>0.967296</td>\n    </tr>\n    <tr>\n      <th>macro avg</th>\n      <td>0.967579</td>\n      <td>0.967295</td>\n      <td>0.967307</td>\n      <td>1590.000000</td>\n    </tr>\n    <tr>\n      <th>weighted avg</th>\n      <td>0.967603</td>\n      <td>0.967296</td>\n      <td>0.967319</td>\n      <td>1590.000000</td>\n    </tr>\n  </tbody>\n</table>\n</div>"
     },
     "execution_count": 101,
     "metadata": {},
     "output_type": "execute_result"
    }
   ],
   "source": [
    "pd.DataFrame(classification_report(y_test, nn_pred_test, output_dict=True)).T\n",
    "\n"
   ],
   "metadata": {
    "collapsed": false,
    "pycharm": {
     "name": "#%%\n"
    }
   }
  },
  {
   "cell_type": "code",
   "execution_count": 68,
   "outputs": [
    {
     "name": "stdout",
     "output_type": "stream",
     "text": [
      "  (0, 15561)\t0.1264460277139044\n",
      "  (0, 17012)\t0.04635217229691379\n",
      "  (0, 15348)\t0.1264460277139044\n",
      "  (0, 12688)\t0.05867738446370229\n",
      "  (0, 10144)\t0.12854126237646807\n",
      "  (0, 6565)\t0.09153929983760208\n",
      "  (0, 16232)\t0.06427063118823403\n",
      "  (0, 15277)\t0.07632286404465054\n",
      "  (0, 12742)\t0.060273377623443765\n",
      "  (0, 11910)\t0.07259698253422738\n",
      "  (0, 12699)\t0.06685041909003682\n",
      "  (0, 13795)\t0.09605746096643548\n",
      "  (0, 4382)\t0.10230514703496763\n",
      "  (0, 16064)\t0.05714082423481055\n",
      "  (0, 12285)\t0.07797057716762815\n",
      "  (0, 13653)\t0.10362292143779019\n",
      "  (0, 9702)\t0.1264460277139044\n",
      "  (0, 8466)\t0.08747514582242623\n",
      "  (0, 6564)\t0.06414543369423577\n",
      "  (0, 5204)\t0.0794820407588534\n",
      "  (0, 10714)\t0.09364387063110023\n",
      "  (0, 5971)\t0.1264460277139044\n",
      "  (0, 11281)\t0.08696853997034998\n",
      "  (0, 7105)\t0.10362292143779019\n",
      "  (0, 16021)\t0.06871619356148786\n",
      "  :\t:\n",
      "  (0, 14794)\t0.08799783706036546\n",
      "  (0, 6670)\t0.10108507850420814\n",
      "  (0, 4128)\t0.09313031149500932\n",
      "  (0, 7839)\t0.10584407129105446\n",
      "  (0, 15881)\t0.07714410136786372\n",
      "  (0, 15968)\t0.06317671952859619\n",
      "  (0, 5189)\t0.12170980523659754\n",
      "  (0, 6236)\t0.08261080292326235\n",
      "  (0, 13222)\t0.07712611560023536\n",
      "  (0, 15380)\t0.29666009688145\n",
      "  (0, 3784)\t0.0785586179316025\n",
      "  (0, 7400)\t0.0704507849394851\n",
      "  (0, 531)\t0.057976708885561765\n",
      "  (0, 16995)\t0.09153929983760208\n",
      "  (0, 16496)\t0.030449566635297937\n",
      "  (0, 4356)\t0.28035575040703753\n",
      "  (0, 11695)\t0.30529145617860215\n",
      "  (0, 15548)\t0.48683922094639015\n",
      "  (0, 1728)\t0.14519396506845475\n",
      "  (0, 16947)\t0.22499326328453048\n",
      "  (0, 6122)\t0.09221136829973309\n",
      "  (0, 4008)\t0.03943874505837813\n",
      "  (0, 16623)\t0.08508495761060657\n",
      "  (0, 11225)\t0.11249663164226524\n",
      "  (0, 15563)\t0.12170980523659754\n"
     ]
    }
   ],
   "source": [],
   "metadata": {
    "collapsed": false,
    "pycharm": {
     "name": "#%%\n"
    }
   }
  }
 ],
 "metadata": {
  "kernelspec": {
   "name": "venvnews",
   "language": "python",
   "display_name": "venvNews"
  },
  "language_info": {
   "codemirror_mode": {
    "name": "ipython",
    "version": 2
   },
   "file_extension": ".py",
   "mimetype": "text/x-python",
   "name": "python",
   "nbconvert_exporter": "python",
   "pygments_lexer": "ipython2",
   "version": "2.7.6"
  }
 },
 "nbformat": 4,
 "nbformat_minor": 0
}